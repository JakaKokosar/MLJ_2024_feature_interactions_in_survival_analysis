{
 "cells": [
  {
   "cell_type": "code",
   "execution_count": 3,
   "metadata": {},
   "outputs": [],
   "source": [
    "import requests \n",
    "import pandas as pd\n",
    "\n",
    "string_api_url = \"https://version-12-0.string-db.org/api\"\n",
    "output_format = \"tsv-no-header\"\n",
    "method = \"get_string_ids\"\n",
    "\n",
    "\n",
    "l1000 = [str(gene_id) for gene_id in pd.read_csv('L1000.tab', sep='\\t')['pr_gene_id'].tolist()]\n",
    "\n",
    "params = {\n",
    "    \"identifiers\" : \"\\r\".join(l1000),\n",
    "    \"species\" : 9606,\n",
    "    \"limit\" : 1,\n",
    "    \"echo_query\" : 1\n",
    "}\n",
    "\n",
    "results = requests.post(\"/\".join([string_api_url, output_format, method]), data=params)\n",
    "with open('L1000_to_STRING.tab', 'w') as f:\n",
    "    for line in results.text.strip().split(\"\\n\"):\n",
    "        l = line.split(\"\\t\")\n",
    "        f.write(l[0] + \"\\t\" + l[2] + \"\\n\")"
   ]
  },
  {
   "cell_type": "code",
   "execution_count": 10,
   "metadata": {},
   "outputs": [],
   "source": [
    "import requests \n",
    "import pandas as pd\n",
    "\n",
    "string_api_url = \"https://version-12-0.string-db.org/api\"\n",
    "output_format = \"tsv-no-header\"\n",
    "method = \"get_string_ids\"\n",
    "\n",
    "\n",
    "all_genes = [str(int(gene_id)) for gene_id in pd.read_csv('biomart_export.tab', sep='\\t')['NCBI gene (formerly Entrezgene) ID'].dropna().tolist()]\n",
    "\n",
    "params = {\n",
    "    \"identifiers\" : \"\\r\".join(all_genes),\n",
    "    \"species\" : 9606,\n",
    "    \"limit\" : 1,\n",
    "    \"echo_query\" : 1\n",
    "}\n",
    "\n",
    "results = requests.post(\"/\".join([string_api_url, output_format, method]), data=params)\n",
    "with open('gene_id_to_STRING_id.tab', 'w') as f:\n",
    "    for line in results.text.strip().split(\"\\n\"):\n",
    "        l = line.split(\"\\t\")\n",
    "        f.write(l[0] + \"\\t\" + l[2] + \"\\n\")"
   ]
  },
  {
   "cell_type": "code",
   "execution_count": null,
   "metadata": {},
   "outputs": [],
   "source": []
  }
 ],
 "metadata": {
  "kernelspec": {
   "display_name": "dev",
   "language": "python",
   "name": "python3"
  },
  "language_info": {
   "codemirror_mode": {
    "name": "ipython",
    "version": 3
   },
   "file_extension": ".py",
   "mimetype": "text/x-python",
   "name": "python",
   "nbconvert_exporter": "python",
   "pygments_lexer": "ipython3",
   "version": "3.10.12"
  }
 },
 "nbformat": 4,
 "nbformat_minor": 2
}
